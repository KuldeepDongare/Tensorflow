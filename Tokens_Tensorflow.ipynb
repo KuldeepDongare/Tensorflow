{
  "nbformat": 4,
  "nbformat_minor": 0,
  "metadata": {
    "colab": {
      "name": "Tokens_Tensorflow.ipynb",
      "provenance": [],
      "collapsed_sections": [],
      "authorship_tag": "ABX9TyP/F5DzpllEgSCxs67ub9Kx",
      "include_colab_link": true
    },
    "kernelspec": {
      "name": "python3",
      "display_name": "Python 3"
    },
    "language_info": {
      "name": "python"
    }
  },
  "cells": [
    {
      "cell_type": "markdown",
      "metadata": {
        "id": "view-in-github",
        "colab_type": "text"
      },
      "source": [
        "<a href=\"https://colab.research.google.com/github/KuldeepDongare/Tensorflow/blob/main/Tokens_Tensorflow.ipynb\" target=\"_parent\"><img src=\"https://colab.research.google.com/assets/colab-badge.svg\" alt=\"Open In Colab\"/></a>"
      ]
    },
    {
      "cell_type": "code",
      "execution_count": 11,
      "metadata": {
        "id": "--uy0WQY_dkd"
      },
      "outputs": [],
      "source": [
        "import tensorflow as tf\n",
        "from tensorflow import keras\n",
        "from tensorflow.keras.preprocessing.text import Tokenizer"
      ]
    },
    {
      "cell_type": "code",
      "source": [
        "Data = [\n",
        "        'I Love My Dog',\n",
        "        'I Love My Cat',\n",
        "        'I Love You',\n",
        "        'An example of data is information collected for a research paper. An example of data is an email.(computing) A representation of facts or ideas in a formalized manner capable of being communicated or manipulated by some process. Plural form of datum: Pieces of information'\n",
        "]"
      ],
      "metadata": {
        "id": "zGzZ_h9O_nic"
      },
      "execution_count": 14,
      "outputs": []
    },
    {
      "cell_type": "code",
      "source": [
        "tokenizer = Tokenizer(num_words= 200)\n",
        "tokenizer.fit_on_texts(Data)\n",
        "word_index = tokenizer.word_index\n",
        "print(word_index)"
      ],
      "metadata": {
        "colab": {
          "base_uri": "https://localhost:8080/"
        },
        "id": "6PGofAJZAFmz",
        "outputId": "a3a9daf5-d176-445c-ba32-16ca63d71b88"
      },
      "execution_count": 15,
      "outputs": [
        {
          "output_type": "stream",
          "name": "stdout",
          "text": [
            "{'of': 1, 'i': 2, 'love': 3, 'an': 4, 'a': 5, 'my': 6, 'example': 7, 'data': 8, 'is': 9, 'information': 10, 'or': 11, 'dog': 12, 'cat': 13, 'you': 14, 'collected': 15, 'for': 16, 'research': 17, 'paper': 18, 'email': 19, 'computing': 20, 'representation': 21, 'facts': 22, 'ideas': 23, 'in': 24, 'formalized': 25, 'manner': 26, 'capable': 27, 'being': 28, 'communicated': 29, 'manipulated': 30, 'by': 31, 'some': 32, 'process': 33, 'plural': 34, 'form': 35, 'datum': 36, 'pieces': 37}\n"
          ]
        }
      ]
    },
    {
      "cell_type": "code",
      "source": [
        ""
      ],
      "metadata": {
        "id": "jpG9_UuhAhVk"
      },
      "execution_count": null,
      "outputs": []
    }
  ]
}